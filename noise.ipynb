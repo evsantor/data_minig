{
 "nbformat": 4,
 "nbformat_minor": 2,
 "metadata": {
  "language_info": {
   "name": "python",
   "codemirror_mode": {
    "name": "ipython",
    "version": 3
   },
   "version": "3.7.4"
  },
  "orig_nbformat": 2,
  "file_extension": ".py",
  "mimetype": "text/x-python",
  "name": "python",
  "npconvert_exporter": "python",
  "pygments_lexer": "ipython3",
  "version": 3
 },
 "cells": [
  {
   "cell_type": "code",
   "execution_count": 2,
   "metadata": {},
   "outputs": [],
   "source": [
    "import pandas as pd\n",
    "import numpy as np\n",
    "\n",
    "import namegenerator\n",
    "from datetime import datetime, timedelta\n",
    "import random\n",
    "import time"
   ]
  },
  {
   "cell_type": "markdown",
   "execution_count": null,
   "metadata": {},
   "outputs": [],
   "source": [
    "### Noise Generation\n",
    "To simulate errors in the age of the restaurants, we subtract years from the 'age' column of the dataframe\n",
    "\n",
    "\n",
    "Noise is added for the following fields:\n",
    "- restaurant age\n",
    "- restaurant founded\n",
    "- specialty price\n",
    "- specialty calories\n",
    "- reviewer rating\n"
   ]
  },
  {
   "cell_type": "code",
   "execution_count": 3,
   "metadata": {},
   "outputs": [],
   "source": [
    "def export_dataset(df, filename):\n",
    "    df.to_csv(filename)"
   ]
  },
  {
   "cell_type": "code",
   "execution_count": 16,
   "metadata": {},
   "outputs": [],
   "source": [
    "def insert_age_noise(df, errors=100):\n",
    "    for i in range(errors):\n",
    "        # throw a random number to use as index of the df\n",
    "        pos = np.random.randint(0, len(df))\n",
    "        if pos%2:\n",
    "            df.loc[pos, 'age'] -= 2\n",
    "        else:\n",
    "            df.loc[pos, 'age'] += 2\n"
   ]
  },
  {
   "cell_type": "code",
   "execution_count": null,
   "metadata": {},
   "outputs": [],
   "source": [
    "def insert_founded_noise(df, errors=100):\n",
    "    for i in range(errors):\n",
    "        # throw a random number to use as index of the df\n",
    "        pos = np.random.randint(0, len(df))\n",
    "        if pos%2:\n",
    "            df.loc[pos, 'age'] -= 2\n",
    "        else:\n",
    "            df.loc[pos, 'age'] += 2"
   ]
  },
  {
   "cell_type": "code",
   "execution_count": 15,
   "metadata": {},
   "outputs": [],
   "source": [
    "def add_missing_values(df, number, col=None):\n",
    "    for i in range(number):\n",
    "        pos = np.random.randint(0, len(df))\n",
    "        df.loc[pos, col] = None"
   ]
  },
  {
   "cell_type": "code",
   "execution_count": 22,
   "metadata": {},
   "outputs": [],
   "source": [
    "restaurant_df = pd.read_csv('restaurants_df.csv')\n",
    "insert_age_noise(restaurant_df, 50)\n",
    "add_missing_values(restaurant_df, 30, 'age')"
   ]
  },
  {
   "cell_type": "code",
   "execution_count": 23,
   "metadata": {},
   "outputs": [
    {
     "data": {
      "text/html": "<div>\n<style scoped>\n    .dataframe tbody tr th:only-of-type {\n        vertical-align: middle;\n    }\n\n    .dataframe tbody tr th {\n        vertical-align: top;\n    }\n\n    .dataframe thead th {\n        text-align: right;\n    }\n</style>\n<table border=\"1\" class=\"dataframe\">\n  <thead>\n    <tr style=\"text-align: right;\">\n      <th></th>\n      <th>Unnamed: 0</th>\n      <th>id</th>\n      <th>name</th>\n      <th>cid</th>\n      <th>sid</th>\n      <th>rid</th>\n      <th>founded</th>\n      <th>age</th>\n    </tr>\n  </thead>\n  <tbody>\n    <tr>\n      <td>0</td>\n      <td>0</td>\n      <td>247880</td>\n      <td>wheezy-rust-octopus</td>\n      <td>996631</td>\n      <td>52569</td>\n      <td>313618</td>\n      <td>01/13/2018</td>\n      <td>1.0</td>\n    </tr>\n    <tr>\n      <td>1</td>\n      <td>1</td>\n      <td>746686</td>\n      <td>trippy-lime-mist</td>\n      <td>335751</td>\n      <td>48535</td>\n      <td>187623</td>\n      <td>02/14/2018</td>\n      <td>1.0</td>\n    </tr>\n    <tr>\n      <td>2</td>\n      <td>2</td>\n      <td>557217</td>\n      <td>wiggy-saffron-capybara</td>\n      <td>773828</td>\n      <td>47909</td>\n      <td>128097</td>\n      <td>03/26/2012</td>\n      <td>7.0</td>\n    </tr>\n    <tr>\n      <td>3</td>\n      <td>3</td>\n      <td>179077</td>\n      <td>beady-white-butterfly</td>\n      <td>397655</td>\n      <td>72349</td>\n      <td>981131</td>\n      <td>12/17/2017</td>\n      <td>2.0</td>\n    </tr>\n    <tr>\n      <td>4</td>\n      <td>4</td>\n      <td>472896</td>\n      <td>flimsy-tangerine-moth</td>\n      <td>494931</td>\n      <td>72392</td>\n      <td>837594</td>\n      <td>05/10/2017</td>\n      <td>NaN</td>\n    </tr>\n    <tr>\n      <td>...</td>\n      <td>...</td>\n      <td>...</td>\n      <td>...</td>\n      <td>...</td>\n      <td>...</td>\n      <td>...</td>\n      <td>...</td>\n      <td>...</td>\n    </tr>\n    <tr>\n      <td>95</td>\n      <td>95</td>\n      <td>754236</td>\n      <td>smelly-purple-vole</td>\n      <td>357190</td>\n      <td>33517</td>\n      <td>192533</td>\n      <td>06/22/2011</td>\n      <td>6.0</td>\n    </tr>\n    <tr>\n      <td>96</td>\n      <td>96</td>\n      <td>808874</td>\n      <td>lousy-ochre-wolverine</td>\n      <td>741155</td>\n      <td>40855</td>\n      <td>819604</td>\n      <td>08/21/2018</td>\n      <td>NaN</td>\n    </tr>\n    <tr>\n      <td>97</td>\n      <td>97</td>\n      <td>386145</td>\n      <td>geeky-champagne-quetzal</td>\n      <td>410832</td>\n      <td>37878</td>\n      <td>371321</td>\n      <td>08/28/2008</td>\n      <td>9.0</td>\n    </tr>\n    <tr>\n      <td>98</td>\n      <td>98</td>\n      <td>993747</td>\n      <td>gummy-coral-tarsier</td>\n      <td>428450</td>\n      <td>35330</td>\n      <td>272094</td>\n      <td>03/20/2013</td>\n      <td>8.0</td>\n    </tr>\n    <tr>\n      <td>99</td>\n      <td>99</td>\n      <td>171070</td>\n      <td>grumpy-peach-gecko</td>\n      <td>842242</td>\n      <td>79162</td>\n      <td>416302</td>\n      <td>07/15/2014</td>\n      <td>3.0</td>\n    </tr>\n  </tbody>\n</table>\n<p>100 rows × 8 columns</p>\n</div>",
      "text/plain": "    Unnamed: 0      id                     name     cid    sid     rid  \\\n0            0  247880      wheezy-rust-octopus  996631  52569  313618   \n1            1  746686         trippy-lime-mist  335751  48535  187623   \n2            2  557217   wiggy-saffron-capybara  773828  47909  128097   \n3            3  179077    beady-white-butterfly  397655  72349  981131   \n4            4  472896    flimsy-tangerine-moth  494931  72392  837594   \n..         ...     ...                      ...     ...    ...     ...   \n95          95  754236       smelly-purple-vole  357190  33517  192533   \n96          96  808874    lousy-ochre-wolverine  741155  40855  819604   \n97          97  386145  geeky-champagne-quetzal  410832  37878  371321   \n98          98  993747      gummy-coral-tarsier  428450  35330  272094   \n99          99  171070       grumpy-peach-gecko  842242  79162  416302   \n\n       founded  age  \n0   01/13/2018  1.0  \n1   02/14/2018  1.0  \n2   03/26/2012  7.0  \n3   12/17/2017  2.0  \n4   05/10/2017  NaN  \n..         ...  ...  \n95  06/22/2011  6.0  \n96  08/21/2018  NaN  \n97  08/28/2008  9.0  \n98  03/20/2013  8.0  \n99  07/15/2014  3.0  \n\n[100 rows x 8 columns]"
     },
     "execution_count": 23,
     "metadata": {},
     "output_type": "execute_result"
    }
   ],
   "source": [
    "restaurant_df"
   ]
  },
  {
   "cell_type": "code",
   "execution_count": null,
   "metadata": {},
   "outputs": [],
   "source": []
  }
 ]
}